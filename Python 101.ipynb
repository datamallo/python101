{
 "cells": [
  {
   "cell_type": "code",
   "execution_count": 1,
   "id": "448b4291-2f10-4d78-ba51-1e6ad12c5f24",
   "metadata": {},
   "outputs": [],
   "source": [
    "x = 5"
   ]
  },
  {
   "cell_type": "code",
   "execution_count": 2,
   "id": "a546fe9a-f877-48f5-a8b2-bc11d10589a3",
   "metadata": {},
   "outputs": [
    {
     "data": {
      "text/plain": [
       "5"
      ]
     },
     "execution_count": 2,
     "metadata": {},
     "output_type": "execute_result"
    }
   ],
   "source": [
    "x"
   ]
  },
  {
   "cell_type": "code",
   "execution_count": 3,
   "id": "5b0e414d-92ba-4bd6-b937-cda380391bd7",
   "metadata": {},
   "outputs": [],
   "source": [
    "y = 8"
   ]
  },
  {
   "cell_type": "code",
   "execution_count": 4,
   "id": "c43d8c27-01d3-46dd-8b7f-f2b3a8c02f57",
   "metadata": {},
   "outputs": [
    {
     "name": "stdout",
     "output_type": "stream",
     "text": [
      "8\n"
     ]
    }
   ],
   "source": [
    "print(y)"
   ]
  },
  {
   "cell_type": "code",
   "execution_count": 5,
   "id": "2ef50a9a-aea1-4233-89c6-d91b33803146",
   "metadata": {},
   "outputs": [],
   "source": [
    "x, y = (1, 2)"
   ]
  },
  {
   "cell_type": "code",
   "execution_count": 6,
   "id": "dc9b62c1-96f3-4e6d-9805-2228063d1144",
   "metadata": {},
   "outputs": [
    {
     "name": "stdout",
     "output_type": "stream",
     "text": [
      "1 2\n"
     ]
    }
   ],
   "source": [
    "print(x, y)"
   ]
  },
  {
   "cell_type": "code",
   "execution_count": 7,
   "id": "62cb86fb-e001-4333-99b2-22fd84f54c93",
   "metadata": {},
   "outputs": [
    {
     "data": {
      "text/plain": [
       "1"
      ]
     },
     "execution_count": 7,
     "metadata": {},
     "output_type": "execute_result"
    }
   ],
   "source": [
    "x"
   ]
  },
  {
   "cell_type": "code",
   "execution_count": 8,
   "id": "d23fca2e-0fdd-4f6a-98f1-3a4b0d477fa2",
   "metadata": {},
   "outputs": [
    {
     "data": {
      "text/plain": [
       "2"
      ]
     },
     "execution_count": 8,
     "metadata": {},
     "output_type": "execute_result"
    }
   ],
   "source": [
    "y"
   ]
  },
  {
   "cell_type": "code",
   "execution_count": 9,
   "id": "de805a3e-77d6-47cf-b771-c307bae12631",
   "metadata": {},
   "outputs": [],
   "source": [
    "x1 = 5"
   ]
  },
  {
   "cell_type": "code",
   "execution_count": 10,
   "id": "ff1146ee-73a1-4aa6-9ec1-c0651e7b6ddd",
   "metadata": {},
   "outputs": [
    {
     "name": "stdout",
     "output_type": "stream",
     "text": [
      "<class 'int'>\n"
     ]
    }
   ],
   "source": [
    "print(type(x1))"
   ]
  },
  {
   "cell_type": "code",
   "execution_count": 11,
   "id": "f879ef43-4f23-41d2-bd47-b860e1e98645",
   "metadata": {},
   "outputs": [],
   "source": [
    "x2 = 4.75"
   ]
  },
  {
   "cell_type": "code",
   "execution_count": 12,
   "id": "9de5afee-b5cb-425f-8a2f-529ed332d669",
   "metadata": {},
   "outputs": [
    {
     "name": "stdout",
     "output_type": "stream",
     "text": [
      "<class 'float'>\n"
     ]
    }
   ],
   "source": [
    "print(type(x2))"
   ]
  },
  {
   "cell_type": "code",
   "execution_count": 13,
   "id": "3865fee8-18ff-4ca2-ad7e-c9055284b22d",
   "metadata": {},
   "outputs": [
    {
     "data": {
      "text/plain": [
       "4"
      ]
     },
     "execution_count": 13,
     "metadata": {},
     "output_type": "execute_result"
    }
   ],
   "source": [
    "int(x2)"
   ]
  },
  {
   "cell_type": "code",
   "execution_count": 14,
   "id": "c79ee52d-bf93-45bc-9835-44c6f2d90ceb",
   "metadata": {},
   "outputs": [
    {
     "data": {
      "text/plain": [
       "5.0"
      ]
     },
     "execution_count": 14,
     "metadata": {},
     "output_type": "execute_result"
    }
   ],
   "source": [
    "float(x1)"
   ]
  },
  {
   "cell_type": "code",
   "execution_count": 15,
   "id": "0c197dee-6c3d-4419-8079-6694ffc56388",
   "metadata": {},
   "outputs": [],
   "source": [
    "x3 = True"
   ]
  },
  {
   "cell_type": "code",
   "execution_count": 16,
   "id": "77634f95-76a0-49cf-a18c-7fc319c3430e",
   "metadata": {},
   "outputs": [],
   "source": [
    "x4 = x1 + x3"
   ]
  },
  {
   "cell_type": "code",
   "execution_count": 17,
   "id": "94cffc9b-65af-4d23-8d02-4f9c3226a13b",
   "metadata": {},
   "outputs": [
    {
     "data": {
      "text/plain": [
       "6"
      ]
     },
     "execution_count": 17,
     "metadata": {},
     "output_type": "execute_result"
    }
   ],
   "source": [
    "x4"
   ]
  },
  {
   "cell_type": "code",
   "execution_count": 18,
   "id": "218abadb-cf99-4890-8cd3-6baa9c95baab",
   "metadata": {},
   "outputs": [
    {
     "data": {
      "text/plain": [
       "'George'"
      ]
     },
     "execution_count": 18,
     "metadata": {},
     "output_type": "execute_result"
    }
   ],
   "source": [
    "'George'"
   ]
  },
  {
   "cell_type": "code",
   "execution_count": 19,
   "id": "47a9b7a6-dcea-495a-b3b4-9c94a9b3408b",
   "metadata": {},
   "outputs": [
    {
     "data": {
      "text/plain": [
       "'George'"
      ]
     },
     "execution_count": 19,
     "metadata": {},
     "output_type": "execute_result"
    }
   ],
   "source": [
    "\"George\""
   ]
  },
  {
   "cell_type": "code",
   "execution_count": 20,
   "id": "1d8ca2cb-2579-439e-9ab0-e83bd8689d90",
   "metadata": {},
   "outputs": [
    {
     "name": "stdout",
     "output_type": "stream",
     "text": [
      "George\n"
     ]
    }
   ],
   "source": [
    "print(\"George\")"
   ]
  },
  {
   "cell_type": "code",
   "execution_count": 21,
   "id": "1612aab5-99ac-4cb6-8a3e-8aab514885e7",
   "metadata": {},
   "outputs": [
    {
     "data": {
      "text/plain": [
       "'George'"
      ]
     },
     "execution_count": 21,
     "metadata": {},
     "output_type": "execute_result"
    }
   ],
   "source": [
    "x5 = 'George'\n",
    "x5"
   ]
  },
  {
   "cell_type": "code",
   "execution_count": 23,
   "id": "550bc387-15ef-4813-9002-6984c8efdef7",
   "metadata": {},
   "outputs": [
    {
     "name": "stdout",
     "output_type": "stream",
     "text": [
      "10 dollars\n",
      "10 dollars\n"
     ]
    }
   ],
   "source": [
    "c = 10\n",
    "print(f\"{c} dollars\")\n",
    "print(str(c) + \" dollars\")"
   ]
  },
  {
   "cell_type": "code",
   "execution_count": 25,
   "id": "cd166034-e362-414e-ac8e-7dc873fc0b8a",
   "metadata": {},
   "outputs": [
    {
     "data": {
      "text/plain": [
       "\"I'm fine\""
      ]
     },
     "execution_count": 25,
     "metadata": {},
     "output_type": "execute_result"
    }
   ],
   "source": [
    "\"I'm fine\"\n",
    "'I\\'m fine'"
   ]
  },
  {
   "cell_type": "code",
   "execution_count": 26,
   "id": "db17eb9d-902e-4e60-8b9d-03858aa79016",
   "metadata": {},
   "outputs": [
    {
     "data": {
      "text/plain": [
       "'Press \"Enter\"'"
      ]
     },
     "execution_count": 26,
     "metadata": {},
     "output_type": "execute_result"
    }
   ],
   "source": [
    "'Press \"Enter\"'"
   ]
  },
  {
   "cell_type": "code",
   "execution_count": 27,
   "id": "0c82a431-0e9a-460d-9a0f-74a142eb2c5e",
   "metadata": {},
   "outputs": [
    {
     "data": {
      "text/plain": [
       "3"
      ]
     },
     "execution_count": 27,
     "metadata": {},
     "output_type": "execute_result"
    }
   ],
   "source": [
    "1 + 2"
   ]
  },
  {
   "cell_type": "code",
   "execution_count": 28,
   "id": "6bf99a56-301f-472d-bd57-a7a02e224be9",
   "metadata": {},
   "outputs": [
    {
     "data": {
      "text/plain": [
       "-2"
      ]
     },
     "execution_count": 28,
     "metadata": {},
     "output_type": "execute_result"
    }
   ],
   "source": [
    "3 - 5"
   ]
  },
  {
   "cell_type": "code",
   "execution_count": 29,
   "id": "d23034d5-1de0-4f4e-b8c0-bfbf6c101b7d",
   "metadata": {},
   "outputs": [
    {
     "data": {
      "text/plain": [
       "5.0"
      ]
     },
     "execution_count": 29,
     "metadata": {},
     "output_type": "execute_result"
    }
   ],
   "source": [
    "15 / 3"
   ]
  },
  {
   "cell_type": "code",
   "execution_count": 30,
   "id": "0941b1bd-14ab-41df-80dd-8fe0d41fc808",
   "metadata": {},
   "outputs": [
    {
     "data": {
      "text/plain": [
       "5.333333333333333"
      ]
     },
     "execution_count": 30,
     "metadata": {},
     "output_type": "execute_result"
    }
   ],
   "source": [
    "16 / 3"
   ]
  },
  {
   "cell_type": "code",
   "execution_count": 31,
   "id": "5684cb2e-aacf-4005-94f6-3e6515710423",
   "metadata": {},
   "outputs": [
    {
     "data": {
      "text/plain": [
       "1"
      ]
     },
     "execution_count": 31,
     "metadata": {},
     "output_type": "execute_result"
    }
   ],
   "source": [
    "16 % 3"
   ]
  },
  {
   "cell_type": "code",
   "execution_count": 32,
   "id": "36be2890-b8b7-422c-b9ad-c803a89666be",
   "metadata": {},
   "outputs": [
    {
     "data": {
      "text/plain": [
       "15"
      ]
     },
     "execution_count": 32,
     "metadata": {},
     "output_type": "execute_result"
    }
   ],
   "source": [
    "5 * 3"
   ]
  },
  {
   "cell_type": "code",
   "execution_count": 33,
   "id": "837a3d5c-1a96-498b-9937-9ba71157ff1a",
   "metadata": {},
   "outputs": [
    {
     "data": {
      "text/plain": [
       "125"
      ]
     },
     "execution_count": 33,
     "metadata": {},
     "output_type": "execute_result"
    }
   ],
   "source": [
    "5 ** 3"
   ]
  },
  {
   "cell_type": "code",
   "execution_count": 35,
   "id": "46be0866-e86d-431c-8dd9-cab589d09e58",
   "metadata": {},
   "outputs": [],
   "source": [
    "k = 5 ** 3"
   ]
  },
  {
   "cell_type": "code",
   "execution_count": 36,
   "id": "0231ea2c-0b0f-4a5b-9476-de7e579a2fdf",
   "metadata": {},
   "outputs": [
    {
     "data": {
      "text/plain": [
       "125"
      ]
     },
     "execution_count": 36,
     "metadata": {},
     "output_type": "execute_result"
    }
   ],
   "source": [
    "k"
   ]
  },
  {
   "cell_type": "code",
   "execution_count": 37,
   "id": "c917a966-aa9d-4c48-86b5-a4ca66871851",
   "metadata": {},
   "outputs": [
    {
     "data": {
      "text/plain": [
       "True"
      ]
     },
     "execution_count": 37,
     "metadata": {},
     "output_type": "execute_result"
    }
   ],
   "source": [
    "k == 125"
   ]
  },
  {
   "cell_type": "code",
   "execution_count": 38,
   "id": "4c9b258f-5a5b-4c19-a357-60657d9498d1",
   "metadata": {},
   "outputs": [],
   "source": [
    "# This is a comment"
   ]
  },
  {
   "cell_type": "code",
   "execution_count": 40,
   "id": "46676380-650f-4d97-af11-daf9b2d6375e",
   "metadata": {},
   "outputs": [],
   "source": [
    "day = \"Friday\""
   ]
  },
  {
   "cell_type": "code",
   "execution_count": 41,
   "id": "982d2f5b-238a-47f7-a743-612e86fbfa3e",
   "metadata": {},
   "outputs": [
    {
     "name": "stdout",
     "output_type": "stream",
     "text": [
      "d\n"
     ]
    }
   ],
   "source": [
    "print(day[3])"
   ]
  },
  {
   "cell_type": "code",
   "execution_count": 42,
   "id": "9425fb85-9240-462e-91db-5f8526d6fd81",
   "metadata": {},
   "outputs": [],
   "source": [
    "def five(x):\n",
    "    x = 5\n",
    "    return x"
   ]
  },
  {
   "cell_type": "code",
   "execution_count": 43,
   "id": "f7c663b1-7261-4ad1-8fc6-8cec26d06b39",
   "metadata": {},
   "outputs": [
    {
     "name": "stdout",
     "output_type": "stream",
     "text": [
      "5\n"
     ]
    }
   ],
   "source": [
    "print(five(20))"
   ]
  },
  {
   "cell_type": "code",
   "execution_count": 45,
   "id": "08825d0d-245c-4544-94a7-96ba61f837de",
   "metadata": {},
   "outputs": [
    {
     "data": {
      "text/plain": [
       "True"
      ]
     },
     "execution_count": 45,
     "metadata": {},
     "output_type": "execute_result"
    }
   ],
   "source": [
    "10 == 20 / 2"
   ]
  },
  {
   "cell_type": "code",
   "execution_count": 46,
   "id": "19d3d60c-f862-49c5-b42d-6748c92fcda7",
   "metadata": {},
   "outputs": [
    {
     "data": {
      "text/plain": [
       "False"
      ]
     },
     "execution_count": 46,
     "metadata": {},
     "output_type": "execute_result"
    }
   ],
   "source": [
    "10 != 10"
   ]
  },
  {
   "cell_type": "code",
   "execution_count": 47,
   "id": "3caa0f8d-e83d-480e-9744-03b2bd0b8bf6",
   "metadata": {},
   "outputs": [
    {
     "data": {
      "text/plain": [
       "True"
      ]
     },
     "execution_count": 47,
     "metadata": {},
     "output_type": "execute_result"
    }
   ],
   "source": [
    "100 > 50"
   ]
  },
  {
   "cell_type": "code",
   "execution_count": 48,
   "id": "e8f0c146-17f4-4878-b122-abdf9d09e2ba",
   "metadata": {},
   "outputs": [
    {
     "data": {
      "text/plain": [
       "False"
      ]
     },
     "execution_count": 48,
     "metadata": {},
     "output_type": "execute_result"
    }
   ],
   "source": [
    "100 < 50"
   ]
  },
  {
   "cell_type": "code",
   "execution_count": 49,
   "id": "06ac5f9d-392a-4dd7-8221-7fe7ea32b047",
   "metadata": {},
   "outputs": [
    {
     "data": {
      "text/plain": [
       "False"
      ]
     },
     "execution_count": 49,
     "metadata": {},
     "output_type": "execute_result"
    }
   ],
   "source": [
    "True < 0"
   ]
  },
  {
   "cell_type": "code",
   "execution_count": 50,
   "id": "ca3c56a4-8bd3-431e-b807-03bde21b8206",
   "metadata": {},
   "outputs": [
    {
     "data": {
      "text/plain": [
       "True"
      ]
     },
     "execution_count": 50,
     "metadata": {},
     "output_type": "execute_result"
    }
   ],
   "source": [
    "True and True"
   ]
  },
  {
   "cell_type": "code",
   "execution_count": 51,
   "id": "8be018d0-392f-4dec-9900-f9c4995d71bf",
   "metadata": {},
   "outputs": [
    {
     "data": {
      "text/plain": [
       "False"
      ]
     },
     "execution_count": 51,
     "metadata": {},
     "output_type": "execute_result"
    }
   ],
   "source": [
    "True and False"
   ]
  },
  {
   "cell_type": "code",
   "execution_count": 52,
   "id": "70bce1bf-b0df-4b61-afa9-591f08d351c4",
   "metadata": {},
   "outputs": [
    {
     "data": {
      "text/plain": [
       "True"
      ]
     },
     "execution_count": 52,
     "metadata": {},
     "output_type": "execute_result"
    }
   ],
   "source": [
    "True or False"
   ]
  },
  {
   "cell_type": "code",
   "execution_count": 53,
   "id": "a686671a-012e-4f5c-aed5-9c9921dc62a3",
   "metadata": {},
   "outputs": [
    {
     "data": {
      "text/plain": [
       "False"
      ]
     },
     "execution_count": 53,
     "metadata": {},
     "output_type": "execute_result"
    }
   ],
   "source": [
    "3 > 5 and 20 > 10"
   ]
  },
  {
   "cell_type": "code",
   "execution_count": 54,
   "id": "5075f1fb-51b3-4b8b-9287-625f2e04d4e0",
   "metadata": {},
   "outputs": [],
   "source": [
    "# Order of importance of logical operators = NOT - AND - OR"
   ]
  },
  {
   "cell_type": "code",
   "execution_count": 55,
   "id": "dd3180dc-e776-4976-93a2-53b49c8a187f",
   "metadata": {},
   "outputs": [
    {
     "name": "stdout",
     "output_type": "stream",
     "text": [
      "Hooray\n"
     ]
    }
   ],
   "source": [
    "if 5 == 15 / 3:\n",
    "    print(\"Hooray\")"
   ]
  },
  {
   "cell_type": "code",
   "execution_count": 56,
   "id": "552b4ebb-90cb-42a7-ab89-6d7ff134e92b",
   "metadata": {},
   "outputs": [
    {
     "name": "stdout",
     "output_type": "stream",
     "text": [
      "Wrong\n"
     ]
    }
   ],
   "source": [
    "if 5 == 18 / 3:\n",
    "    print(\"Hooray\")\n",
    "else:\n",
    "    print(\"Wrong\")"
   ]
  },
  {
   "cell_type": "code",
   "execution_count": 1,
   "id": "974c0cb3-5dbd-42dc-8374-6a6a77e5ec65",
   "metadata": {},
   "outputs": [
    {
     "name": "stdout",
     "output_type": "stream",
     "text": [
      "Case 2\n"
     ]
    }
   ],
   "source": [
    "x5 = 1\n",
    "\n",
    "if x5 > 3:\n",
    "    print(\"Case 1\")\n",
    "else:\n",
    "    print(\"Case 2\")"
   ]
  },
  {
   "cell_type": "code",
   "execution_count": 5,
   "id": "1607d9a9-ef3c-423a-b707-9b087c95d994",
   "metadata": {},
   "outputs": [
    {
     "name": "stdout",
     "output_type": "stream",
     "text": [
      "Less\n",
      "Greater\n",
      "Equal\n",
      "Negative\n"
     ]
    }
   ],
   "source": [
    "def compare_to_five(y):\n",
    "    if y > 5:\n",
    "        return \"Greater\"\n",
    "    elif y < 0:\n",
    "        return \"Negative\"\n",
    "    elif y < 5:\n",
    "        return \"Less\"\n",
    "    else:\n",
    "        return \"Equal\"\n",
    "\n",
    "print(compare_to_five(2))\n",
    "print(compare_to_five(10))\n",
    "print(compare_to_five(5))\n",
    "print(compare_to_five(-5))"
   ]
  },
  {
   "cell_type": "markdown",
   "id": "3bc9c3d6-176a-4699-b2d8-0bbeb7c6e576",
   "metadata": {},
   "source": [
    "### Functions"
   ]
  },
  {
   "cell_type": "code",
   "execution_count": 6,
   "id": "5f7a62df-e845-475c-86ad-54ff54c4e7db",
   "metadata": {},
   "outputs": [],
   "source": [
    "# Defining a function\n",
    "def simple():\n",
    "    print(\"Amazing function!\")"
   ]
  },
  {
   "cell_type": "code",
   "execution_count": 7,
   "id": "2841f3b5-c207-449c-b591-6fddaf723ab6",
   "metadata": {},
   "outputs": [
    {
     "name": "stdout",
     "output_type": "stream",
     "text": [
      "Amazing function!\n"
     ]
    }
   ],
   "source": [
    "simple()"
   ]
  },
  {
   "cell_type": "code",
   "execution_count": 8,
   "id": "9dd24fff-5219-4662-b9e3-dec7a805096b",
   "metadata": {},
   "outputs": [],
   "source": [
    "def plus_ten(a):\n",
    "    return a + 10"
   ]
  },
  {
   "cell_type": "code",
   "execution_count": 9,
   "id": "fa39f17a-8db3-415c-81d5-959a5e037af8",
   "metadata": {},
   "outputs": [
    {
     "name": "stdout",
     "output_type": "stream",
     "text": [
      "20\n"
     ]
    }
   ],
   "source": [
    "print(plus_ten(10))"
   ]
  },
  {
   "cell_type": "code",
   "execution_count": 10,
   "id": "0cdb7d80-7c87-46af-aa4b-1c3cfe685280",
   "metadata": {},
   "outputs": [
    {
     "name": "stdout",
     "output_type": "stream",
     "text": [
      "15\n"
     ]
    }
   ],
   "source": [
    "print(plus_ten(5))"
   ]
  },
  {
   "cell_type": "code",
   "execution_count": 1,
   "id": "2135b02d-1d03-4466-ae2b-1dd74922d913",
   "metadata": {},
   "outputs": [],
   "source": [
    "def plus_twenty(a):\n",
    "    result = a + 20\n",
    "    return result"
   ]
  },
  {
   "cell_type": "code",
   "execution_count": 2,
   "id": "ee1caa41-beea-40ca-8556-3318cd10079f",
   "metadata": {},
   "outputs": [
    {
     "data": {
      "text/plain": [
       "30"
      ]
     },
     "execution_count": 2,
     "metadata": {},
     "output_type": "execute_result"
    }
   ],
   "source": [
    "plus_twenty(10)"
   ]
  },
  {
   "cell_type": "code",
   "execution_count": 3,
   "id": "85e3b1ef-a88b-4b05-be2b-5900ae4239bc",
   "metadata": {},
   "outputs": [],
   "source": [
    "def wage(w_hours):\n",
    "    return w_hours * 25\n",
    "\n",
    "def with_bonus(w_hours):\n",
    "    return wage(w_hours) + 50"
   ]
  },
  {
   "cell_type": "code",
   "execution_count": 8,
   "id": "8aa898fd-2d5e-43b5-9328-3b5842856c75",
   "metadata": {},
   "outputs": [],
   "source": [
    "day1 = with_bonus(5)"
   ]
  },
  {
   "cell_type": "code",
   "execution_count": 9,
   "id": "14cb9e74-bc0b-419c-9892-e87ddda37525",
   "metadata": {},
   "outputs": [
    {
     "name": "stdout",
     "output_type": "stream",
     "text": [
      "175\n"
     ]
    }
   ],
   "source": [
    "print(day1)"
   ]
  },
  {
   "cell_type": "code",
   "execution_count": 16,
   "id": "e37493cc-c0cd-41eb-9086-c1ac042b0286",
   "metadata": {},
   "outputs": [
    {
     "name": "stdout",
     "output_type": "stream",
     "text": [
      "110\n"
     ]
    }
   ],
   "source": [
    "def add_10(m):\n",
    "    if m >= 100:\n",
    "        m+=10\n",
    "        return m\n",
    "    else:\n",
    "        return \"Save more!\"\n",
    "\n",
    "print(add_10(100))"
   ]
  },
  {
   "cell_type": "code",
   "execution_count": 17,
   "id": "e77602d0-55cf-4e46-9191-ddd9486932bb",
   "metadata": {},
   "outputs": [
    {
     "data": {
      "text/plain": [
       "int"
      ]
     },
     "execution_count": 17,
     "metadata": {},
     "output_type": "execute_result"
    }
   ],
   "source": [
    "type(10)"
   ]
  },
  {
   "cell_type": "code",
   "execution_count": 18,
   "id": "19fffacf-9b25-47b7-93a1-cccb5ae05b1e",
   "metadata": {},
   "outputs": [
    {
     "data": {
      "text/plain": [
       "'10'"
      ]
     },
     "execution_count": 18,
     "metadata": {},
     "output_type": "execute_result"
    }
   ],
   "source": [
    "str(10)"
   ]
  },
  {
   "cell_type": "code",
   "execution_count": 19,
   "id": "6bae0a2b-7292-4a46-b89e-5233d38578bc",
   "metadata": {},
   "outputs": [
    {
     "data": {
      "text/plain": [
       "10.0"
      ]
     },
     "execution_count": 19,
     "metadata": {},
     "output_type": "execute_result"
    }
   ],
   "source": [
    "float(10)"
   ]
  },
  {
   "cell_type": "code",
   "execution_count": 20,
   "id": "4872e96b-505c-4e52-bb3c-f2a6a718da97",
   "metadata": {},
   "outputs": [
    {
     "data": {
      "text/plain": [
       "21"
      ]
     },
     "execution_count": 20,
     "metadata": {},
     "output_type": "execute_result"
    }
   ],
   "source": [
    "max(1, 20, 21, 2)"
   ]
  },
  {
   "cell_type": "code",
   "execution_count": 21,
   "id": "97506012-6e6b-4a6a-804f-3f87941dca03",
   "metadata": {},
   "outputs": [
    {
     "data": {
      "text/plain": [
       "-12"
      ]
     },
     "execution_count": 21,
     "metadata": {},
     "output_type": "execute_result"
    }
   ],
   "source": [
    "min(-12, -3, 12)"
   ]
  },
  {
   "cell_type": "code",
   "execution_count": 22,
   "id": "45775596-c983-44f9-9cd7-a4f28e86e020",
   "metadata": {},
   "outputs": [
    {
     "data": {
      "text/plain": [
       "1000"
      ]
     },
     "execution_count": 22,
     "metadata": {},
     "output_type": "execute_result"
    }
   ],
   "source": [
    "abs(-1000)"
   ]
  },
  {
   "cell_type": "code",
   "execution_count": 24,
   "id": "a8df44b0-9a0e-42aa-a4ef-8138d7d09130",
   "metadata": {},
   "outputs": [
    {
     "data": {
      "text/plain": [
       "10"
      ]
     },
     "execution_count": 24,
     "metadata": {},
     "output_type": "execute_result"
    }
   ],
   "source": [
    "list1 = [1, 2, 3, 4]\n",
    "sum(list1)"
   ]
  },
  {
   "cell_type": "code",
   "execution_count": 25,
   "id": "b3643efe-788a-43df-9a35-80b871fb686b",
   "metadata": {},
   "outputs": [
    {
     "data": {
      "text/plain": [
       "2.12"
      ]
     },
     "execution_count": 25,
     "metadata": {},
     "output_type": "execute_result"
    }
   ],
   "source": [
    "round(2.121221212, 2)"
   ]
  },
  {
   "cell_type": "code",
   "execution_count": 27,
   "id": "efab7b6b-8751-47bd-95a1-fcbd226e78e6",
   "metadata": {},
   "outputs": [
    {
     "data": {
      "text/plain": [
       "1024"
      ]
     },
     "execution_count": 27,
     "metadata": {},
     "output_type": "execute_result"
    }
   ],
   "source": [
    "pow(2, 10)\n",
    "2 ** 10"
   ]
  },
  {
   "cell_type": "code",
   "execution_count": 29,
   "id": "1921e934-ef48-452c-8dec-cb74316287de",
   "metadata": {},
   "outputs": [
    {
     "data": {
      "text/plain": [
       "4"
      ]
     },
     "execution_count": 29,
     "metadata": {},
     "output_type": "execute_result"
    }
   ],
   "source": [
    "len(\"test\")"
   ]
  },
  {
   "cell_type": "markdown",
   "id": "ebc3a8c3-63f3-4850-aba0-57ff87623e89",
   "metadata": {},
   "source": [
    "### Lists"
   ]
  },
  {
   "cell_type": "code",
   "execution_count": 1,
   "id": "30afc831-0468-4418-a40f-18cf82baf882",
   "metadata": {},
   "outputs": [
    {
     "data": {
      "text/plain": [
       "['John', 'Leila', 'Gregory', 'Cate']"
      ]
     },
     "execution_count": 1,
     "metadata": {},
     "output_type": "execute_result"
    }
   ],
   "source": [
    "participants = [\"John\", \"Leila\", \"Gregory\", \"Cate\"]\n",
    "participants"
   ]
  },
  {
   "cell_type": "code",
   "execution_count": 2,
   "id": "4fbf0ccb-0b16-4e09-87ab-8360e920c1d8",
   "metadata": {},
   "outputs": [
    {
     "data": {
      "text/plain": [
       "'Leila'"
      ]
     },
     "execution_count": 2,
     "metadata": {},
     "output_type": "execute_result"
    }
   ],
   "source": [
    "participants[1]"
   ]
  },
  {
   "cell_type": "code",
   "execution_count": 3,
   "id": "94e34328-f58a-4f42-872a-9e93c5e85a6a",
   "metadata": {},
   "outputs": [
    {
     "data": {
      "text/plain": [
       "'Cate'"
      ]
     },
     "execution_count": 3,
     "metadata": {},
     "output_type": "execute_result"
    }
   ],
   "source": [
    "participants[-1]"
   ]
  },
  {
   "cell_type": "code",
   "execution_count": 4,
   "id": "ef5627fc-5a9b-468c-bddd-97c8944b5fa4",
   "metadata": {},
   "outputs": [
    {
     "data": {
      "text/plain": [
       "'Gregory'"
      ]
     },
     "execution_count": 4,
     "metadata": {},
     "output_type": "execute_result"
    }
   ],
   "source": [
    "participants[-2]"
   ]
  },
  {
   "cell_type": "code",
   "execution_count": 5,
   "id": "912e1f0b-242d-435d-89c7-a31e4d0e595a",
   "metadata": {},
   "outputs": [],
   "source": [
    "participants[-1] = \"Maria\""
   ]
  },
  {
   "cell_type": "code",
   "execution_count": 6,
   "id": "df8e7322-2061-48c0-aaf8-2d76c4fde752",
   "metadata": {},
   "outputs": [
    {
     "data": {
      "text/plain": [
       "'Maria'"
      ]
     },
     "execution_count": 6,
     "metadata": {},
     "output_type": "execute_result"
    }
   ],
   "source": [
    "participants[-1]"
   ]
  },
  {
   "cell_type": "code",
   "execution_count": 7,
   "id": "ae9cc5cc-32b0-4103-bac4-893d52e81e25",
   "metadata": {},
   "outputs": [],
   "source": [
    "del participants[-2]"
   ]
  },
  {
   "cell_type": "code",
   "execution_count": 8,
   "id": "91393898-3a5d-4674-ac4b-b92e4c31e09a",
   "metadata": {},
   "outputs": [
    {
     "data": {
      "text/plain": [
       "['John', 'Leila', 'Maria']"
      ]
     },
     "execution_count": 8,
     "metadata": {},
     "output_type": "execute_result"
    }
   ],
   "source": [
    "participants"
   ]
  },
  {
   "cell_type": "code",
   "execution_count": 9,
   "id": "3da394ea-1a66-4176-bb41-d2d99cd46f79",
   "metadata": {},
   "outputs": [],
   "source": [
    "participants.append(\"Dwayne\")"
   ]
  },
  {
   "cell_type": "code",
   "execution_count": 10,
   "id": "575eec1a-7dee-4a4e-9c13-8ed8847a90b7",
   "metadata": {},
   "outputs": [
    {
     "data": {
      "text/plain": [
       "['John', 'Leila', 'Maria', 'Dwayne']"
      ]
     },
     "execution_count": 10,
     "metadata": {},
     "output_type": "execute_result"
    }
   ],
   "source": [
    "participants"
   ]
  },
  {
   "cell_type": "code",
   "execution_count": 11,
   "id": "83117a18-57eb-490e-8426-ab2e79fd0252",
   "metadata": {},
   "outputs": [
    {
     "data": {
      "text/plain": [
       "['John', 'Leila', 'Maria', 'Dwayne', 'George', 'Catherine']"
      ]
     },
     "execution_count": 11,
     "metadata": {},
     "output_type": "execute_result"
    }
   ],
   "source": [
    "participants.extend([\"George\", \"Catherine\"])\n",
    "participants"
   ]
  },
  {
   "cell_type": "code",
   "execution_count": 12,
   "id": "d3a99245-9212-40fd-9f55-2118c67c0d07",
   "metadata": {},
   "outputs": [
    {
     "name": "stdout",
     "output_type": "stream",
     "text": [
      "The first participant is John\n"
     ]
    }
   ],
   "source": [
    "print(f\"The first participant is {participants[0]}\")"
   ]
  },
  {
   "cell_type": "code",
   "execution_count": 13,
   "id": "1952e3da-4203-4d71-961b-6b68f5c6ac39",
   "metadata": {},
   "outputs": [
    {
     "data": {
      "text/plain": [
       "6"
      ]
     },
     "execution_count": 13,
     "metadata": {},
     "output_type": "execute_result"
    }
   ],
   "source": [
    "len(participants)"
   ]
  },
  {
   "cell_type": "code",
   "execution_count": 14,
   "id": "c0932b0c-5825-4069-8bc9-4530c965c484",
   "metadata": {},
   "outputs": [
    {
     "data": {
      "text/plain": [
       "['Leila', 'Maria']"
      ]
     },
     "execution_count": 14,
     "metadata": {},
     "output_type": "execute_result"
    }
   ],
   "source": [
    "participants[1:3]"
   ]
  },
  {
   "cell_type": "code",
   "execution_count": 15,
   "id": "c68a868d-3bdc-4e7b-adc4-35c2838e390d",
   "metadata": {},
   "outputs": [
    {
     "data": {
      "text/plain": [
       "['John', 'Leila']"
      ]
     },
     "execution_count": 15,
     "metadata": {},
     "output_type": "execute_result"
    }
   ],
   "source": [
    "participants[:2]"
   ]
  },
  {
   "cell_type": "code",
   "execution_count": 16,
   "id": "7cef3c2c-a8e8-466f-bb5c-ece7f2823767",
   "metadata": {},
   "outputs": [
    {
     "data": {
      "text/plain": [
       "['George', 'Catherine']"
      ]
     },
     "execution_count": 16,
     "metadata": {},
     "output_type": "execute_result"
    }
   ],
   "source": [
    "participants[4:]"
   ]
  },
  {
   "cell_type": "code",
   "execution_count": 17,
   "id": "496cc954-59bd-4f78-8ce5-434d82bf61af",
   "metadata": {},
   "outputs": [
    {
     "data": {
      "text/plain": [
       "['George', 'Catherine']"
      ]
     },
     "execution_count": 17,
     "metadata": {},
     "output_type": "execute_result"
    }
   ],
   "source": [
    "participants[-2:]"
   ]
  },
  {
   "cell_type": "code",
   "execution_count": 18,
   "id": "4345698f-8f14-4a0f-84a8-313ece3d4bdb",
   "metadata": {},
   "outputs": [
    {
     "data": {
      "text/plain": [
       "2"
      ]
     },
     "execution_count": 18,
     "metadata": {},
     "output_type": "execute_result"
    }
   ],
   "source": [
    "participants.index(\"Maria\")"
   ]
  },
  {
   "cell_type": "code",
   "execution_count": 19,
   "id": "c0758d3c-65eb-411f-aedb-6b054a755615",
   "metadata": {},
   "outputs": [],
   "source": [
    "newcomers = [\"Joshua\", \"Lilas\"]\n",
    "bigger_list = [participants, newcomers]"
   ]
  },
  {
   "cell_type": "code",
   "execution_count": 20,
   "id": "fbd24c03-c387-4e43-9805-dafb6d5f552d",
   "metadata": {},
   "outputs": [
    {
     "data": {
      "text/plain": [
       "[['John', 'Leila', 'Maria', 'Dwayne', 'George', 'Catherine'],\n",
       " ['Joshua', 'Lilas']]"
      ]
     },
     "execution_count": 20,
     "metadata": {},
     "output_type": "execute_result"
    }
   ],
   "source": [
    "bigger_list"
   ]
  },
  {
   "cell_type": "code",
   "execution_count": 23,
   "id": "6199d684-2234-4291-bffc-9d273d71c2db",
   "metadata": {},
   "outputs": [
    {
     "data": {
      "text/plain": [
       "['Catherine', 'Dwayne', 'George', 'John', 'Leila', 'Maria']"
      ]
     },
     "execution_count": 23,
     "metadata": {},
     "output_type": "execute_result"
    }
   ],
   "source": [
    "participants.sort()\n",
    "participants"
   ]
  },
  {
   "cell_type": "code",
   "execution_count": 24,
   "id": "f162ab36-f669-40d6-bdf4-729085a9a2e4",
   "metadata": {},
   "outputs": [
    {
     "data": {
      "text/plain": [
       "['Maria', 'Leila', 'John', 'George', 'Dwayne', 'Catherine']"
      ]
     },
     "execution_count": 24,
     "metadata": {},
     "output_type": "execute_result"
    }
   ],
   "source": [
    "participants.sort(reverse=True)\n",
    "participants"
   ]
  },
  {
   "cell_type": "markdown",
   "id": "3cbe3409-1c9d-4ef3-a7d6-63b077c637d8",
   "metadata": {},
   "source": [
    "### Tuples"
   ]
  },
  {
   "cell_type": "code",
   "execution_count": 25,
   "id": "80e170fd-0779-4309-a844-5f42dd4920fc",
   "metadata": {},
   "outputs": [
    {
     "data": {
      "text/plain": [
       "(40, 41, 42)"
      ]
     },
     "execution_count": 25,
     "metadata": {},
     "output_type": "execute_result"
    }
   ],
   "source": [
    "x = (40, 41, 42)\n",
    "x"
   ]
  },
  {
   "cell_type": "code",
   "execution_count": 27,
   "id": "3e5ac922-1bbe-424e-8934-bd9e2b1923c5",
   "metadata": {},
   "outputs": [
    {
     "data": {
      "text/plain": [
       "(50, 51, 52)"
      ]
     },
     "execution_count": 27,
     "metadata": {},
     "output_type": "execute_result"
    }
   ],
   "source": [
    "y = 50, 51, 52\n",
    "y"
   ]
  },
  {
   "cell_type": "code",
   "execution_count": 28,
   "id": "4b8cf1af-9a0c-4813-8eb4-e09b7a9e515b",
   "metadata": {},
   "outputs": [
    {
     "data": {
      "text/plain": [
       "6"
      ]
     },
     "execution_count": 28,
     "metadata": {},
     "output_type": "execute_result"
    }
   ],
   "source": [
    "a, b, c = 1, 4, 6\n",
    "c"
   ]
  },
  {
   "cell_type": "code",
   "execution_count": 29,
   "id": "72c0fc5f-f0d5-4a6f-b617-dc2ee80d04ff",
   "metadata": {},
   "outputs": [
    {
     "data": {
      "text/plain": [
       "40"
      ]
     },
     "execution_count": 29,
     "metadata": {},
     "output_type": "execute_result"
    }
   ],
   "source": [
    "x[0]"
   ]
  },
  {
   "cell_type": "code",
   "execution_count": 30,
   "id": "6ef9fc75-02fd-41e2-bfae-9ab01fb963d8",
   "metadata": {},
   "outputs": [
    {
     "data": {
      "text/plain": [
       "[(40, 41, 42), (50, 51, 52)]"
      ]
     },
     "execution_count": 30,
     "metadata": {},
     "output_type": "execute_result"
    }
   ],
   "source": [
    "list2 = [x, y]\n",
    "list2"
   ]
  },
  {
   "cell_type": "code",
   "execution_count": 33,
   "id": "407e39ec-615e-4a0b-a488-835e47438aa9",
   "metadata": {},
   "outputs": [
    {
     "name": "stdout",
     "output_type": "stream",
     "text": [
      "30\n",
      "17\n"
     ]
    }
   ],
   "source": [
    "(age, years_of_school) = \"30,17\".split(',')\n",
    "print(age)\n",
    "print(years_of_school)"
   ]
  },
  {
   "cell_type": "code",
   "execution_count": 35,
   "id": "31461533-9ec9-42b8-b3ec-8f157d4b81a0",
   "metadata": {},
   "outputs": [
    {
     "name": "stdout",
     "output_type": "stream",
     "text": [
      "Area and Perimeter:\n"
     ]
    },
    {
     "data": {
      "text/plain": [
       "(9, 12)"
      ]
     },
     "execution_count": 35,
     "metadata": {},
     "output_type": "execute_result"
    }
   ],
   "source": [
    "def square_info(x):\n",
    "    A = x ** 2\n",
    "    P = 4 * x\n",
    "    print(\"Area and Perimeter:\")\n",
    "    return A,P\n",
    "\n",
    "square_info(3)"
   ]
  },
  {
   "cell_type": "markdown",
   "id": "07f9d8df-8e4d-4b6a-bac0-84ddd944cd8a",
   "metadata": {},
   "source": [
    "### Dictionaries"
   ]
  },
  {
   "cell_type": "code",
   "execution_count": 1,
   "id": "a9c7d7a8-e734-4b3c-8143-3a1293ac655a",
   "metadata": {},
   "outputs": [
    {
     "data": {
      "text/plain": [
       "{'k1': 'cat', 'k2': 'dog', 'k3': 'mouse', 'k4': 'fish'}"
      ]
     },
     "execution_count": 1,
     "metadata": {},
     "output_type": "execute_result"
    }
   ],
   "source": [
    "dict = {\"k1\": \"cat\", \"k2\": \"dog\", \"k3\": \"mouse\", \"k4\": \"fish\"}\n",
    "dict"
   ]
  },
  {
   "cell_type": "code",
   "execution_count": 2,
   "id": "3a02f33e-08bf-4724-be41-fd5acf3993a8",
   "metadata": {},
   "outputs": [
    {
     "data": {
      "text/plain": [
       "'cat'"
      ]
     },
     "execution_count": 2,
     "metadata": {},
     "output_type": "execute_result"
    }
   ],
   "source": [
    "dict[\"k1\"]"
   ]
  },
  {
   "cell_type": "code",
   "execution_count": 3,
   "id": "11abfcd4-cbae-48b6-8579-9693aee60e35",
   "metadata": {},
   "outputs": [
    {
     "data": {
      "text/plain": [
       "'fish'"
      ]
     },
     "execution_count": 3,
     "metadata": {},
     "output_type": "execute_result"
    }
   ],
   "source": [
    "dict[\"k4\"]"
   ]
  },
  {
   "cell_type": "code",
   "execution_count": 4,
   "id": "c85e9695-2c78-40e7-a204-7a1c6e4f4829",
   "metadata": {},
   "outputs": [],
   "source": [
    "dict[\"k5\"] = \"penguin\""
   ]
  },
  {
   "cell_type": "code",
   "execution_count": 5,
   "id": "b5fb7acb-8c01-4668-a00e-8bda8b4d63f5",
   "metadata": {},
   "outputs": [
    {
     "data": {
      "text/plain": [
       "{'k1': 'cat', 'k2': 'dog', 'k3': 'mouse', 'k4': 'fish', 'k5': 'penguin'}"
      ]
     },
     "execution_count": 5,
     "metadata": {},
     "output_type": "execute_result"
    }
   ],
   "source": [
    "dict"
   ]
  },
  {
   "cell_type": "code",
   "execution_count": 6,
   "id": "5217db8b-cfd4-47cc-aa27-d90d5cf49b3f",
   "metadata": {},
   "outputs": [
    {
     "data": {
      "text/plain": [
       "{'k1': 'leopard', 'k2': 'dog', 'k3': 'mouse', 'k4': 'fish', 'k5': 'penguin'}"
      ]
     },
     "execution_count": 6,
     "metadata": {},
     "output_type": "execute_result"
    }
   ],
   "source": [
    "dict[\"k1\"] = \"leopard\"\n",
    "dict"
   ]
  },
  {
   "cell_type": "code",
   "execution_count": 7,
   "id": "1975d8dc-eba2-4230-b5a9-b7ae1d22e6ee",
   "metadata": {},
   "outputs": [
    {
     "data": {
      "text/plain": [
       "{'dep1': 'Peter', 'dep2': ['Jennifer', 'Michael', 'Tommy']}"
      ]
     },
     "execution_count": 7,
     "metadata": {},
     "output_type": "execute_result"
    }
   ],
   "source": [
    "dep_workers = {\"dep1\": \"Peter\", \"dep2\": [\"Jennifer\", \"Michael\", \"Tommy\"]}\n",
    "dep_workers"
   ]
  },
  {
   "cell_type": "code",
   "execution_count": 8,
   "id": "4c98f18b-c006-4683-851b-82346fdb9509",
   "metadata": {},
   "outputs": [
    {
     "data": {
      "text/plain": [
       "['Jennifer', 'Michael', 'Tommy']"
      ]
     },
     "execution_count": 8,
     "metadata": {},
     "output_type": "execute_result"
    }
   ],
   "source": [
    "dep_workers[\"dep2\"]"
   ]
  },
  {
   "cell_type": "code",
   "execution_count": 9,
   "id": "9980c3e3-dfce-4caa-b964-b368897e85d2",
   "metadata": {},
   "outputs": [
    {
     "name": "stdout",
     "output_type": "stream",
     "text": [
      "None\n"
     ]
    }
   ],
   "source": [
    "print(dep_workers.get(\"k6\"))"
   ]
  },
  {
   "cell_type": "markdown",
   "id": "51fed37f-d0d9-4daf-a027-002061dc1516",
   "metadata": {},
   "source": [
    "### Loops"
   ]
  },
  {
   "cell_type": "code",
   "execution_count": 13,
   "id": "e9358330-a5ce-4334-851a-02cb7c9316ee",
   "metadata": {},
   "outputs": [
    {
     "name": "stdout",
     "output_type": "stream",
     "text": [
      "0 2 4 6 8 10 12 14 16 18 20 "
     ]
    }
   ],
   "source": [
    "even = [0, 2, 4, 6, 8, 10, 12, 14, 16, 18, 20]\n",
    "for i in even:\n",
    "    print(i, end=' ')"
   ]
  },
  {
   "cell_type": "code",
   "execution_count": 17,
   "id": "ec87dddd-cd0d-46f2-adb5-d91eb5a56ff6",
   "metadata": {},
   "outputs": [
    {
     "name": "stdout",
     "output_type": "stream",
     "text": [
      "0 2 4 6 8 10 12 14 16 18 20 "
     ]
    }
   ],
   "source": [
    "x = 0\n",
    "while x <= 20:\n",
    "    print(x, end=\" \")\n",
    "    x += 2"
   ]
  },
  {
   "cell_type": "markdown",
   "id": "f559c591-4b86-42eb-98cb-2ff7b46bfc41",
   "metadata": {},
   "source": [
    "### Range"
   ]
  },
  {
   "cell_type": "code",
   "execution_count": 18,
   "id": "34c05458-6ba3-448a-bd23-3db4b2ca2e1d",
   "metadata": {},
   "outputs": [
    {
     "data": {
      "text/plain": [
       "range(0, 10)"
      ]
     },
     "execution_count": 18,
     "metadata": {},
     "output_type": "execute_result"
    }
   ],
   "source": [
    "range(10)"
   ]
  },
  {
   "cell_type": "code",
   "execution_count": 19,
   "id": "8f22fc6a-2384-479e-b258-9b9fbc3299e0",
   "metadata": {},
   "outputs": [
    {
     "data": {
      "text/plain": [
       "[0, 1, 2, 3, 4, 5, 6, 7, 8, 9]"
      ]
     },
     "execution_count": 19,
     "metadata": {},
     "output_type": "execute_result"
    }
   ],
   "source": [
    "list(range(10))"
   ]
  },
  {
   "cell_type": "code",
   "execution_count": 20,
   "id": "f3fe6200-6262-42ad-9e47-a499b586a8b7",
   "metadata": {},
   "outputs": [
    {
     "data": {
      "text/plain": [
       "range(3, 7)"
      ]
     },
     "execution_count": 20,
     "metadata": {},
     "output_type": "execute_result"
    }
   ],
   "source": [
    "range(3, 7)"
   ]
  },
  {
   "cell_type": "code",
   "execution_count": 21,
   "id": "b408d348-b939-4155-9c9d-abf6323f3d83",
   "metadata": {},
   "outputs": [
    {
     "data": {
      "text/plain": [
       "[3, 4, 5, 6]"
      ]
     },
     "execution_count": 21,
     "metadata": {},
     "output_type": "execute_result"
    }
   ],
   "source": [
    "list(range(3, 7))"
   ]
  },
  {
   "cell_type": "code",
   "execution_count": 22,
   "id": "fd889d57-d789-4fb3-9368-18cd9950928d",
   "metadata": {},
   "outputs": [
    {
     "data": {
      "text/plain": [
       "range(1, 20, 2)"
      ]
     },
     "execution_count": 22,
     "metadata": {},
     "output_type": "execute_result"
    }
   ],
   "source": [
    "range(1, 20, 2)"
   ]
  },
  {
   "cell_type": "code",
   "execution_count": 23,
   "id": "a05fbc21-c1e8-42fe-84dd-1cb43fab6b28",
   "metadata": {},
   "outputs": [
    {
     "data": {
      "text/plain": [
       "[1, 3, 5, 7, 9, 11, 13, 15, 17, 19]"
      ]
     },
     "execution_count": 23,
     "metadata": {},
     "output_type": "execute_result"
    }
   ],
   "source": [
    "list(range(1, 20, 2))"
   ]
  },
  {
   "cell_type": "code",
   "execution_count": 26,
   "id": "126a9aca-3866-436e-bf96-7beba391145a",
   "metadata": {},
   "outputs": [
    {
     "name": "stdout",
     "output_type": "stream",
     "text": [
      "1 2 4 8 16 32 64 128 256 512 "
     ]
    }
   ],
   "source": [
    "for n in range(10):\n",
    "    print(pow(2, n), end=\" \")"
   ]
  },
  {
   "cell_type": "code",
   "execution_count": 25,
   "id": "ad3ade51-5fb8-4868-96b0-05b7837cb702",
   "metadata": {},
   "outputs": [
    {
     "name": "stdout",
     "output_type": "stream",
     "text": [
      "0 odd 2 odd 4 odd 6 odd 8 odd 10 odd 12 odd 14 odd 16 odd 18 odd "
     ]
    }
   ],
   "source": [
    "for x in range(20):\n",
    "    if x % 2 == 0:\n",
    "        print(x, end=\" \")\n",
    "    else:\n",
    "        print(\"odd\", end=\" \")"
   ]
  },
  {
   "cell_type": "code",
   "execution_count": 27,
   "id": "60479ab5-14b0-41f0-8feb-1275ea9cab68",
   "metadata": {},
   "outputs": [],
   "source": [
    "x = [0, 1, 2]"
   ]
  },
  {
   "cell_type": "code",
   "execution_count": 28,
   "id": "8964739e-9023-490d-8c2c-fe849fb689af",
   "metadata": {},
   "outputs": [
    {
     "name": "stdout",
     "output_type": "stream",
     "text": [
      "0 1 2 "
     ]
    }
   ],
   "source": [
    "for item in range(len(x)):\n",
    "    print(x[item], end=\" \")"
   ]
  },
  {
   "cell_type": "code",
   "execution_count": 33,
   "id": "911ac66b-37ed-4735-b53a-20dc132ee7eb",
   "metadata": {},
   "outputs": [],
   "source": [
    "def count(numbers):\n",
    "    total = 0\n",
    "    for x in numbers:\n",
    "        if x < 20:\n",
    "            total += 1\n",
    "    return total"
   ]
  },
  {
   "cell_type": "code",
   "execution_count": 36,
   "id": "71f21ed9-1036-4fb5-88c9-e78624326708",
   "metadata": {},
   "outputs": [],
   "source": [
    "list1 = [1, 3, 7, 15, 23, 45, 54, 98, 17]"
   ]
  },
  {
   "cell_type": "code",
   "execution_count": 37,
   "id": "57794352-0e77-4bd3-a920-2513669931c9",
   "metadata": {},
   "outputs": [
    {
     "data": {
      "text/plain": [
       "5"
      ]
     },
     "execution_count": 37,
     "metadata": {},
     "output_type": "execute_result"
    }
   ],
   "source": [
    "count(list1)"
   ]
  },
  {
   "cell_type": "code",
   "execution_count": 41,
   "id": "5df1d621-a2a2-4c71-8667-6d77cd106b64",
   "metadata": {},
   "outputs": [
    {
     "name": "stdout",
     "output_type": "stream",
     "text": [
      "74\n"
     ]
    }
   ],
   "source": [
    "prices = {\n",
    "    \"box_of_spaghetti\": 4,\n",
    "    \"lasagna\": 5,\n",
    "    \"hamburger\": 2\n",
    "}\n",
    "\n",
    "quantity = {\n",
    "    \"box_of_spaghetti\": 6,\n",
    "    \"lasagna\": 10,\n",
    "    \"hamburger\": 0\n",
    "}\n",
    "\n",
    "money_spent = 0\n",
    "\n",
    "for i in prices:\n",
    "    money_spent += (prices[i] * quantity[i]) \n",
    "\n",
    "print(money_spent)"
   ]
  },
  {
   "cell_type": "code",
   "execution_count": null,
   "id": "9a7d5d84-3c73-4acf-9765-8c5426b804e2",
   "metadata": {},
   "outputs": [],
   "source": []
  }
 ],
 "metadata": {
  "kernelspec": {
   "display_name": "Python 3 (ipykernel)",
   "language": "python",
   "name": "python3"
  },
  "language_info": {
   "codemirror_mode": {
    "name": "ipython",
    "version": 3
   },
   "file_extension": ".py",
   "mimetype": "text/x-python",
   "name": "python",
   "nbconvert_exporter": "python",
   "pygments_lexer": "ipython3",
   "version": "3.12.7"
  }
 },
 "nbformat": 4,
 "nbformat_minor": 5
}
